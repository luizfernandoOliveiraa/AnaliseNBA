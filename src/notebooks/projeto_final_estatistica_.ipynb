{
  "cells": [
    {
      "cell_type": "code",
      "execution_count": 1,
      "metadata": {
        "colab": {
          "base_uri": "https://localhost:8080/",
          "height": 71
        },
        "id": "7bJA5YjP8PqU",
        "outputId": "510622c3-01ab-42b9-ca5b-677f6e22b56e"
      },
      "outputs": [],
      "source": [
        "from scipy import stats\n",
        "import pandas as pd\n",
        "import numpy as np\n",
        "\n",
        "NBA = pd.read_csv('../../data/nba.csv')\n",
        "import warnings\n",
        "warnings.filterwarnings('ignore')"
      ]
    },
    {
      "cell_type": "code",
      "execution_count": null,
      "metadata": {
        "colab": {
          "base_uri": "https://localhost:8080/",
          "height": 511
        },
        "id": "wJXu35c2_hvW",
        "outputId": "b787a154-db1c-4b62-b6dd-41aaee71a181"
      },
      "outputs": [],
      "source": [
        "#NBA.isna().sum()\n",
        "# NBA_NUM - SEPARAÇÃO DAS VARIAVÉIS NUMÉRICAS\n",
        "print(NBA.columns)\n",
        "NBA_NUM = NBA[['age',\n",
        "       'player_height', 'player_weight', 'gp', 'pts', 'reb', 'ast', 'net_rating',\n",
        "       'oreb_pct', 'dreb_pct', 'usg_pct', 'ts_pct', 'ast_pct']]\n",
        "NBA_NUM.replace('Undrafted',0, inplace = True)\n",
        "NBA_NUM"
      ]
    },
    {
      "cell_type": "code",
      "execution_count": null,
      "metadata": {
        "colab": {
          "base_uri": "https://localhost:8080/",
          "height": 629
        },
        "id": "dSiwHmzQUhCW",
        "outputId": "2f404604-9add-48ca-eb36-0dd435f5849f"
      },
      "outputs": [],
      "source": [
        "import seaborn as sns\n",
        "import matplotlib.pyplot as plt\n",
        "\n",
        "fig, ax = plt.subplots(figsize=(8, 6))\n",
        "grafico = sns.heatmap(data=NBA_NUM.corr(numeric_only=True), annot=True, cmap='crest', cbar=False)\n",
        "grafico.set_title(\"Gráfico da correlação entre as variáveis\")\n",
        "plt.show(grafico)"
      ]
    },
    {
      "cell_type": "code",
      "execution_count": null,
      "metadata": {
        "colab": {
          "base_uri": "https://localhost:8080/"
        },
        "id": "R7JZVeg1IXgf",
        "outputId": "f92d01c0-dda3-469a-9c39-400d77fc4409"
      },
      "outputs": [],
      "source": [
        "print(f'''Informações sobre as variáveis do conjunto de dados da NBA: {NBA.info()}\\n\n",
        "Informações sobre as estatísticas do conjunto de dados da NBA: {pd.DataFrame(NBA_NUM.describe())}\\n''')"
      ]
    },
    {
      "cell_type": "code",
      "execution_count": null,
      "metadata": {
        "colab": {
          "base_uri": "https://localhost:8080/",
          "height": 300
        },
        "id": "tMwXD-mdKpls",
        "outputId": "2d6e9153-d2ec-46c6-fb48-e6ec85bd9c5b"
      },
      "outputs": [],
      "source": [
        "pd.DataFrame(NBA_NUM.describe())"
      ]
    },
    {
      "cell_type": "code",
      "execution_count": null,
      "metadata": {
        "colab": {
          "base_uri": "https://localhost:8080/",
          "height": 238
        },
        "id": "cBFkprSAUsDO",
        "outputId": "053066ba-0a7b-4db9-a5bc-5af13367d05b"
      },
      "outputs": [],
      "source": [
        "# BUSCANDO INSIGHTS SOBRE LONGEVIDADE E PONTUAÇÃO UTILIZANDO AGRUPAMENTO POR IDADE E PONTOS\n",
        "\n",
        "agrupado_NBA = NBA.groupby(['player_name','pts', 'age']).size().reset_index(name='Agrupamento 1')\n",
        "\n",
        "# POSTERIORMENTE UTILIZANDO FILTROS PARA VISUALIAR APENAS OS COM 30 ANOS OU MAIS E 30 PONTOS OU MAISs\n",
        "agrupado_NBA[(agrupado_NBA['age'] >= 30) & (agrupado_NBA['pts'] >= 30)]"
      ]
    },
    {
      "cell_type": "code",
      "execution_count": 8,
      "metadata": {
        "id": "8aezzhKhU36F"
      },
      "outputs": [],
      "source": [
        "# SEPARAÇÃO DAS ERAS DO LEBRON, OU SEJA, CADA TIME QUE ELE ATUOU\n",
        "# PRIMEIRA ERA = CLEVELAND CAVALIERS\n",
        "# SEGUNDA ERA = MIAMI HEAT\n",
        "# TERCEIRA ERA = CLEVELAND CAVALIERS\n",
        "# QUARTA ERA = LOS ANGELES LAKERS\n",
        "\n",
        "# Era 1, onde iniciou sua carreira jogando no Cleveland Cavaliers e foi draftado em 1º lugar.\n",
        "\n",
        "l1 = pd.concat([NBA[(NBA['season'] == '2003-04') & (NBA['player_name'] == 'LeBron James')],\n",
        "NBA[(NBA['season'] == '2004-05') & (NBA['player_name'] == 'LeBron James')],\n",
        "NBA[(NBA['season'] == '2005-06') & (NBA['player_name'] == 'LeBron James')],\n",
        "NBA[(NBA['season'] == '2006-07') & (NBA['player_name'] == 'LeBron James')],\n",
        "NBA[(NBA['season'] == '2007-08') & (NBA['player_name'] == 'LeBron James')],\n",
        "NBA[(NBA['season'] == '2009-10') & (NBA['player_name'] == 'LeBron James')]],axis=0)\n",
        "l1_NUM = l1[['age','player_height', 'player_weight', 'gp',\n",
        "             'pts', 'reb', 'ast', 'net_rating', 'oreb_pct',\n",
        "             'dreb_pct', 'usg_pct', 'ts_pct', 'ast_pct']]\n",
        "\n",
        "# Era 2, onde jogou no Miami Heat e conseguiu seus dois primeiros títulos da NBA.\n",
        "\n",
        "l2 = pd.concat([NBA[(NBA['season'] == '2003-04') & (NBA['player_name'] == 'LeBron James')],\n",
        "NBA[(NBA['season'] == '2010-11') & (NBA['player_name'] == 'LeBron James')],\n",
        "NBA[(NBA['season'] == '2011-12') & (NBA['player_name'] == 'LeBron James')],\n",
        "NBA[(NBA['season'] == '2012-13') & (NBA['player_name'] == 'LeBron James')],\n",
        "NBA[(NBA['season'] == '2013-14') & (NBA['player_name'] == 'LeBron James')]],axis=0)\n",
        "l2_NUM = l2[['age','player_height', 'player_weight', 'gp',\n",
        "             'pts', 'reb', 'ast', 'net_rating', 'oreb_pct',\n",
        "             'dreb_pct', 'usg_pct', 'ts_pct', 'ast_pct']]\n",
        "\n",
        "# Era 3, na qual retornou ao Cleveland Cavaliers e conseguiu mais um de seus títulos da NBA.\n",
        "\n",
        "l3 = pd.concat([NBA[(NBA['season'] == '2003-04') & (NBA['player_name'] == 'LeBron James')],\n",
        "NBA[(NBA['season'] == '2014-15') & (NBA['player_name'] == 'LeBron James')],\n",
        "NBA[(NBA['season'] == '2015-16') & (NBA['player_name'] == 'LeBron James')],\n",
        "NBA[(NBA['season'] == '2016-17') & (NBA['player_name'] == 'LeBron James')]],axis=0)\n",
        "l3_NUM = l3[['age','player_height', 'player_weight', 'gp',\n",
        "             'pts', 'reb', 'ast', 'net_rating', 'oreb_pct',\n",
        "             'dreb_pct', 'usg_pct', 'ts_pct', 'ast_pct']]\n",
        "\n",
        "# Era 4 e atual franquia a qual LeBron joga, no Los Angels Lakers, franquia a qual conseguiu seu 4º título.\n",
        "\n",
        "l4 = pd.concat([NBA[(NBA['season'] == '2003-04') & (NBA['player_name'] == 'LeBron James')],\n",
        "NBA[(NBA['season'] == '2017-18') & (NBA['player_name'] == 'LeBron James')],\n",
        "NBA[(NBA['season'] == '2018-19') & (NBA['player_name'] == 'LeBron James')],\n",
        "NBA[(NBA['season'] == '2019-20') & (NBA['player_name'] == 'LeBron James')],\n",
        "NBA[(NBA['season'] == '2020-21') & (NBA['player_name'] == 'LeBron James')],\n",
        "NBA[(NBA['season'] == '2021-22') & (NBA['player_name'] == 'LeBron James')],\n",
        "NBA[(NBA['season'] == '2021-22') & (NBA['player_name'] == 'LeBron James')]],axis=0)\n",
        "l4_NUM = l4[['age','player_height', 'player_weight', 'gp',\n",
        "             'pts', 'reb', 'ast', 'net_rating', 'oreb_pct',\n",
        "             'dreb_pct', 'usg_pct', 'ts_pct', 'ast_pct']]"
      ]
    },
    {
      "cell_type": "code",
      "execution_count": null,
      "metadata": {
        "colab": {
          "base_uri": "https://localhost:8080/"
        },
        "id": "EMS8JG-iNq_z",
        "outputId": "bf8af812-b2e8-4e12-86d7-e69cff1d4b7f"
      },
      "outputs": [],
      "source": [
        "# FUNÇÃO DESCRIBE MELHORADA, APRESENTA MAIS MEDIDAS ESTATÍSTICAS QUE A FUNÇÃO COMUM.\n",
        "\n",
        "def dscb_plus(NBA_NUM):\n",
        "\n",
        "  # Dicionário que armazena o nome das colunas do novo dataframe\n",
        "\n",
        "  dic1 = {'Métricas': ['Contagem', 'Média', 'Mediana', 'Moda', 'Variância', 'Desvio padrão', 'Simetria', 'Amplitude', '1° Quartil', '2° Quartil', '3° Quartil', 'Intervalo interquatil']}\n",
        "\n",
        "  # Loop para varrer todas variáveis do conjunto e calcular as métricas: contagem, média, mediana, moda, variância, desvio padrão, simetria, Amplitude, 1° Quartil, 2° Quartil, 3° Quartil, Intervalo interquatil\n",
        "  for coluna in NBA_NUM.columns:\n",
        "    dic2 = {coluna:[NBA_NUM[coluna].count(),\n",
        "                    NBA_NUM[coluna].mean(),\n",
        "                    NBA_NUM[coluna].median(),\n",
        "                    NBA_NUM[coluna].mode()[0],\n",
        "                    NBA_NUM[coluna].var(),\n",
        "                    NBA_NUM[coluna].std(),\n",
        "                    NBA_NUM[coluna].skew(),\n",
        "                    max(NBA_NUM[coluna]) - min(NBA_NUM[coluna]),\n",
        "                    NBA_NUM[coluna].quantile(0.25),\n",
        "                    NBA_NUM[coluna].quantile(0.5),\n",
        "                    NBA_NUM[coluna].quantile(0.75),\n",
        "                    NBA_NUM[coluna].quantile(0.75) - NBA_NUM[coluna].quantile(0.25)]}\n",
        "\n",
        "    # O dicionario 1 torna-se uma mescla do dicionário 1 e 2, esse processo é repetido até varrer todas as variáveis do conjunto.\n",
        "\n",
        "    dic1 = {**dic1, **dic2}\n",
        "  dcrbplus = pd. DataFrame(dic1)\n",
        "\n",
        "  # Métricas a parte que serão úteis para comparação entre jogadores.\n",
        "\n",
        "  print(f'''describe melhorado:\\n\n",
        "  pontuacao maxima: {max(NBA_NUM['pts'])}\\n\n",
        "  pontuacao minima: {min(NBA_NUM['pts'])}\\n\n",
        "  rebotes maximo: {max(NBA_NUM['reb'])}\\n\n",
        "  rebotes minimo: {min(NBA_NUM['reb'])}\\n\n",
        "  assistencias maxima: {max(NBA_NUM['ast'])}\\n\n",
        "  assistencias minima: {min(NBA_NUM['ast'])}\\n'''),\n",
        "  return dcrbplus\n",
        "print(f'''Estatísticas da primeira era do LeBron James:\\n\\n {pd.DataFrame(dscb_plus(l1_NUM))}\\n\\n''')\n",
        "print(f'''Estatísticas da segunda era do LeBron James:\\n\\n {pd.DataFrame(dscb_plus(l2_NUM))}\\n\\n''')\n",
        "print(f'''Estatísticas da terceira era do LeBron James:\\n\\n {pd.DataFrame(dscb_plus(l3_NUM))}\\n\\n''')\n",
        "print(f'''Estatísticas da quarta era do LeBron James:\\n\\n {pd.DataFrame(dscb_plus(l4_NUM))}\\n\\n''')"
      ]
    },
    {
      "cell_type": "code",
      "execution_count": 11,
      "metadata": {
        "id": "WNDXtJtqOJWA"
      },
      "outputs": [],
      "source": [
        "# CRIANDO UM DATA FRAME COM TODOS OS JOGADORES QUE JOGARAM DE 2003 A 2009, OU SEJA, ERA 1 DE LEBRON JAMES.\n",
        "\n",
        "E1 = pd.concat([\n",
        "    NBA[(NBA['season'] == '2003-04')],\n",
        "    NBA[(NBA['season'] == '2004-05')],\n",
        "    NBA[(NBA['season'] == '2005-06')],\n",
        "    NBA[(NBA['season'] == '2006-07')],\n",
        "    NBA[(NBA['season'] == '2007-08')],\n",
        "    NBA[(NBA['season'] == '2008-09')],\n",
        "    NBA[(NBA['season'] == '2009-10')]], axis=0)\n",
        "\n",
        "# CRIANDO UM DATA FRAME COM TODOS OS JOGADORES QUE JOGARAM DE 2010 A 2014, OU SEJA, ERA 2 DE LEBRON JAMES.\n",
        "\n",
        "E2 = pd.concat([\n",
        "    NBA[(NBA['season'] == '2010-11')],\n",
        "    NBA[(NBA['season'] == '2011-12')],\n",
        "    NBA[(NBA['season'] == '2012-13')],\n",
        "    NBA[(NBA['season'] == '2013-14')]], axis=0)\n",
        "\n",
        "# CRIANDO UM DATA FRAME COM TODOS OS JOGADORES QUE JOGARAM DE 2014 A 2016, OU SEJA, ERA 3 DE LEBRON JAMES.\n",
        "\n",
        "E3 = pd.concat([\n",
        "    NBA[(NBA['season'] == '2014-15')],\n",
        "    NBA[(NBA['season'] == '2015-16')],\n",
        "    NBA[(NBA['season'] == '2016-17')]], axis=0)\n",
        "\n",
        "# CRIANDO UM DATA FRAME COM TODOS OS JOGADORES QUE JOGARAM DE 2017 A 2022, OU SEJA, ERA 4 DE LEBRON JAMES.\n",
        "\n",
        "E4 = pd.concat([\n",
        "    NBA[(NBA['season'] == '2017-18')],\n",
        "    NBA[(NBA['season'] == '2018-19')],\n",
        "    NBA[(NBA['season'] == '2019-20')],\n",
        "    NBA[(NBA['season'] == '2020-21')],\n",
        "    NBA[(NBA['season'] == '2021-22')],\n",
        "    NBA[(NBA['season'] == '2022-23')]], axis=0)"
      ]
    },
    {
      "cell_type": "code",
      "execution_count": 12,
      "metadata": {
        "id": "vZHm3YwkVEWq"
      },
      "outputs": [],
      "source": [
        "# DATA FRAMES COM OS JOGADORES QUE TIVERAM MÉTRICAS SIMILARES AS MÉDIAS DE LEBRON JAMES EM CADA ERA, UTILIZANDO CONDICIONAIS LÓGICAS PARA FILTRA-LOS.\n",
        "\n",
        "comp1 = E1[(E1['pts'] >= l1['pts'].mean()-3) & (E1['reb'] >= l1['reb'].mean()-2) & (E1['ast']>=l1['ast'].mean()-2)]\n",
        "comp2 = E2[(E2['pts'] >= l2['pts'].mean()-2) & (E2['reb'] >= l2['reb'].mean()-2) & (E2['ast']>= l2['ast'].mean()-2)]\n",
        "comp3 = E3[(E3['pts'] >= l3['pts'].mean()) & (E3['reb']>= l3['reb'].mean()) & (E3['ast']>= l3['ast'].mean())]\n",
        "comp4 = E4[(E4['pts'] >= l4['pts'].mean()) & (E4['reb']>= l4['reb'].mean()) & (E4['ast']>= l4['ast'].mean())]"
      ]
    },
    {
      "cell_type": "code",
      "execution_count": 13,
      "metadata": {
        "id": "7kF6LHqiOJWB"
      },
      "outputs": [],
      "source": [
        "# DATA FRAMES COM OS JOGADORES QUE TIVERAM MÉTRICAS SIMILARES AS MÉDIAS DE LEBRON JAMES EM CADA ERA, UTILIZANDO CONDICIONAIS LÓGICAS PARA FILTRA-LOS.\n",
        "# UTILIZAMOS UMA ABORDAGEM MAIS SUAVE, AFROUXANDO AS METRICAS UM POUCO PARA TENTAR ENCONTRAR OUTROS JOGADORES\n",
        "\n",
        "comp1 = E1[(E1['pts'] >= l1['pts'].mean()) & (E1['reb'] >= l1['reb'].mean()) & (E1['ast']>=l1['ast'].mean())]\n",
        "comp2 = E2[(E2['pts'] >= l2['pts'].mean()) & (E2['reb'] >= l2['reb'].mean()) & (E2['ast']>= l2['ast'].mean())]\n",
        "comp3 = E3[(E3['pts'] >= l3['pts'].mean()) & (E3['reb']>= l3['reb'].mean()) & (E3['ast']>= l3['ast'].mean())]\n",
        "comp4 = E4[(E4['pts'] >= l4['pts'].mean()) & (E4['reb']>= l4['reb'].mean()) & (E4['ast']>= l4['ast'].mean())]"
      ]
    },
    {
      "cell_type": "code",
      "execution_count": null,
      "metadata": {
        "colab": {
          "base_uri": "https://localhost:8080/"
        },
        "id": "8r3k4cPMOJWC",
        "outputId": "90eef3b1-df7c-487e-ffa4-69cf152e7872"
      },
      "outputs": [],
      "source": [
        "# IMPRESSÃO DOS DATA FRAMES COM OS JOGADORES QUE TIVERAM MÉTRICAS SIMILARES AS MÉDIAS DE LEBRON JAMES EM CADA ERA.\n",
        "\n",
        "print(f''' Melhores da era 1 de LeBron James (Cleveland):\\n\\n {comp1}\\n\n",
        "Melhores da era 2 de LeBron James (Heat):\\n\\n {comp2}\\n\n",
        "Melhores da era 3 de LeBron James (Cleveland):\\n\\n {comp3}\\n\n",
        "Melhores da era 4 de LeBron James (Lakers):\\n\\n {comp4}''')"
      ]
    },
    {
      "cell_type": "code",
      "execution_count": 16,
      "metadata": {
        "id": "ltqjzzqcOJWD"
      },
      "outputs": [],
      "source": [
        "# DEFININDO UM NOVO DATAFRAME COM A MÉTRICA GAME_SCORE QUE É A SOMA DE PONTOS, REBOTES E ASSISTÊNCIAS.\n",
        "\n",
        "NBA_score = NBA[['player_name','age','player_height', 'player_weight', 'gp', 'pts', 'reb', 'ast', 'net_rating', 'season']]\n",
        "NBA_score['season_score'] = (NBA_score['pts'] + NBA_score['reb'] + NBA_score['ast'])\n",
        "NBA_score['game_score'] =  NBA_score['season_score'] / NBA_score['gp']"
      ]
    },
    {
      "cell_type": "code",
      "execution_count": 17,
      "metadata": {
        "id": "WdvASoEROJWE"
      },
      "outputs": [],
      "source": [
        "# Função para apresentar algumas correlações úteis, que vão servir para comparar os melhjores jogadores de cada era.\n",
        "\n",
        "def correlacoes_uteis(nome_do_jogador):\n",
        "\n",
        "  # Digita o nome do jogador e a partir do dataframe NBA_score são calculadas as correlações das variáveis\n",
        "  # age, player_height,\tplayer_weight, pts, reb, ast.\n",
        "\n",
        "  jogador = NBA_score[(NBA_score['player_name'] == nome_do_jogador)]\n",
        "  variaveis = jogador[['age', 'player_height',\t'player_weight', 'pts', 'reb', 'ast']]\n",
        "\n",
        "  # Gerando a matriz com as correlações de Pearson entre as vaqriáveis pré-definidas.\n",
        "\n",
        "  pearson_corr = variaveis.corr(method='pearson')\n",
        "  print(f\"Correlação de Pearson {nome_do_jogador}:\")\n",
        "  print(pearson_corr)\n",
        "\n",
        "  # Gerando a matriz com as correlações de Spearman entre as vaqriáveis pré-definidas.\n",
        "\n",
        "  spearman_corr = variaveis.corr(method='spearman')\n",
        "  print(f\"Correlação de Spearman {nome_do_jogador}:\")\n",
        "  print(spearman_corr)"
      ]
    },
    {
      "cell_type": "code",
      "execution_count": null,
      "metadata": {
        "colab": {
          "base_uri": "https://localhost:8080/"
        },
        "id": "jS0jO9X2OJWG",
        "outputId": "6004b78f-7cb7-4743-bfca-160c60e0f442"
      },
      "outputs": [],
      "source": [
        "correlacoes_uteis('LeBron James')\n",
        "correlacoes_uteis('Kobe Bryant')\n",
        "correlacoes_uteis('Luka Doncic')\n",
        "correlacoes_uteis('Joel Embiid')\n",
        "correlacoes_uteis('Allen Iverson')\n",
        "correlacoes_uteis('Stephen Curry')\n",
        "correlacoes_uteis('Damian Lillard')\n",
        "correlacoes_uteis('James Harden')\n",
        "correlacoes_uteis('Giannis Antetokounmpo')\n",
        "correlacoes_uteis('Russell Westbrook')\n",
        "correlacoes_uteis('Bradley Beal')\n",
        "correlacoes_uteis('Tracy McGrady')\n",
        "correlacoes_uteis('Kevin Durant')\n",
        "correlacoes_uteis('Shai Gilgeous-Alexander')\n",
        "correlacoes_uteis('Jayson Tatum')"
      ]
    },
    {
      "cell_type": "code",
      "execution_count": 32,
      "metadata": {
        "id": "kQ68aoh1OJWk"
      },
      "outputs": [],
      "source": [
        "# Função comparadora de estatísticas entre dois jogadores\n",
        "\n",
        "def comparando_estatistica(jogador1, jogador2, NBA_score):\n",
        "\n",
        "# Escolhe a faixa etária escolhida e é gerado um dicionário com as métricas de cada um dos jogadores. Após isso, é tranformado em um dataframe.\n",
        "\n",
        " periodo = str(input(f'''Qual faixa etária deseja avaliar?\n",
        " a) Menor ou igual a 25\n",
        " b) Entre 25 e 30\n",
        " c) Mais que 30\\n''')).lower()\n",
        "\n",
        " if periodo=='a':\n",
        "  print('Menor ou igual 25')\n",
        "  jogadorA = NBA_score[(NBA_score['player_name'] == jogador1) & (NBA_score['age'] <= 25)]\n",
        "  jogadorB = NBA_score[(NBA_score['player_name'] == jogador2) & (NBA_score['age'] <= 25)]\n",
        "  comparativo = {'Métricas' : ['std_pts', 'media_pts', 'mediana_pts', 'moda_pts',\n",
        "                               'std_reb', 'media_reb', 'mediana_reb', 'moda_reb',\n",
        "                               'std_ast', 'media_ast', 'mediana_ast', 'moda_ast'],\n",
        "\n",
        "                 jogador1 : [jogadorA['pts'].std(), jogadorA['pts'].mean(), jogadorA['pts'].median(), jogadorA['pts'].mode().iloc[0], jogadorA['reb'].std(),\n",
        "                 jogadorA['reb'].mean(), jogadorA['reb'].median(), jogadorA['reb'].mode().iloc[0], jogadorA['ast'].std(), jogadorA['ast'].mean(),\n",
        "                 jogadorA['ast'].median(), jogadorA['ast'].mode().iloc[0]],\n",
        "\n",
        "                 jogador2 : [jogadorB['pts'].std(), jogadorB['pts'].mean(), jogadorB['pts'].median(), jogadorB['pts'].mode().iloc[0], jogadorB['reb'].std(),\n",
        "                 jogadorB['reb'].mean(), jogadorB['reb'].median(), jogadorB['reb'].mode().iloc[0], jogadorB['ast'].std(), jogadorB['ast'].mean(),\n",
        "                 jogadorB['ast'].median(), jogadorB['ast'].mode().iloc[0]]}\n",
        "  data = pd.DataFrame(comparativo)\n",
        "\n",
        " elif periodo=='b':\n",
        "  print('Maior que 25 e menor que 30')\n",
        "  jogadorA = NBA_score[(NBA_score['player_name'] == jogador1) & (NBA_score['age'] > 25) & (NBA_score['age'] < 30)]\n",
        "  jogadorB = NBA_score[(NBA_score['player_name'] == jogador2) & (NBA_score['age'] > 25) & (NBA_score['age'] < 30)]\n",
        "  comparativo = {'Métricas' : ['std_pts', 'media_pts', 'mediana_pts', 'moda_pts',\n",
        "                               'std_reb', 'media_reb', 'mediana_reb', 'moda_reb',\n",
        "                               'std_ast', 'media_ast', 'mediana_ast', 'moda_ast'],\n",
        "\n",
        "                 jogador1 : [jogadorA['pts'].std(), jogadorA['pts'].mean(), jogadorA['pts'].median(), jogadorA['pts'].mode().iloc[0], jogadorA['reb'].std(),\n",
        "                 jogadorA['reb'].mean(), jogadorA['reb'].median(), jogadorA['reb'].mode().iloc[0], jogadorA['ast'].std(), jogadorA['ast'].mean(),\n",
        "                 jogadorA['ast'].median(), jogadorA['ast'].mode().iloc[0]],\n",
        "\n",
        "                 jogador2 : [jogadorB['pts'].std(), jogadorB['pts'].mean(), jogadorB['pts'].median(), jogadorB['pts'].mode().iloc[0], jogadorB['reb'].std(),\n",
        "                 jogadorB['reb'].mean(), jogadorB['reb'].median(), jogadorB['reb'].mode().iloc[0], jogadorB['ast'].std(), jogadorB['ast'].mean(),\n",
        "                 jogadorB['ast'].median(), jogadorB['ast'].mode().iloc[0]]}\n",
        "  data = pd.DataFrame(comparativo)\n",
        "\n",
        " elif periodo=='c':\n",
        "  print('Maior que 30')\n",
        "  jogadorA = NBA_score[(NBA_score['player_name'] == jogador1) & (NBA_score['age'] >= 30)]\n",
        "  jogadorB = NBA_score[(NBA_score['player_name'] == jogador2) & (NBA_score['age'] >= 30)]\n",
        "  comparativo = {'Métricas' : ['std_pts', 'media_pts', 'mediana_pts', 'moda_pts',\n",
        "                               'std_reb', 'media_reb', 'mediana_reb', 'moda_reb',\n",
        "                               'std_ast', 'media_ast', 'mediana_ast', 'moda_ast'],\n",
        "\n",
        "                 jogador1 : [jogadorA['pts'].std(), jogadorA['pts'].mean(), jogadorA['pts'].median(), jogadorA['pts'].mode().iloc[0], jogadorA['reb'].std(),\n",
        "                 jogadorA['reb'].mean(), jogadorA['reb'].median(), jogadorA['reb'].mode().iloc[0], jogadorA['ast'].std(), jogadorA['ast'].mean(),\n",
        "                 jogadorA['ast'].median(), jogadorA['ast'].mode().iloc[0]],\n",
        "\n",
        "                 jogador2 : [jogadorB['pts'].std(), jogadorB['pts'].mean(), jogadorB['pts'].median(), jogadorB['pts'].mode().iloc[0], jogadorB['reb'].std(),\n",
        "                 jogadorB['reb'].mean(), jogadorB['reb'].median(), jogadorB['reb'].mode().iloc[0], jogadorB['ast'].std(), jogadorB['ast'].mean(),\n",
        "                 jogadorB['ast'].median(), jogadorB['ast'].mode().iloc[0]]}\n",
        "  data = pd.DataFrame(comparativo)\n",
        "\n",
        " print(data)"
      ]
    },
    {
      "cell_type": "code",
      "execution_count": null,
      "metadata": {
        "id": "0O9kveqJOJWn",
        "outputId": "cc3ad8be-c1e8-447d-fa04-f4f8ff9725a2"
      },
      "outputs": [],
      "source": [
        "# LUKA SÓ TEM ATÉ A PRIMEIRA COMPARAÇÃO (A) PORQUE ELE NÃO TEM DADOS DE IDADE MAIORES QUE 25 ANOS.\n",
        "comparando_estatistica('LeBron James', 'Luka Doncic', NBA_score)"
      ]
    },
    {
      "cell_type": "code",
      "execution_count": null,
      "metadata": {
        "id": "1myh5i-kOJWp",
        "outputId": "39461ecb-c254-401b-bc03-c31d5ab2bee5"
      },
      "outputs": [],
      "source": [
        "comparando_estatistica('LeBron James', 'Kobe Bryant', NBA_score)\n"
      ]
    },
    {
      "cell_type": "code",
      "execution_count": null,
      "metadata": {
        "id": "6l8400NCOJWq"
      },
      "outputs": [],
      "source": [
        "comparando_estatistica('LeBron James', 'Allen Iverson', NBA_score)\n"
      ]
    },
    {
      "cell_type": "code",
      "execution_count": null,
      "metadata": {
        "id": "2Uq8lelIOJWr"
      },
      "outputs": [],
      "source": [
        "comparando_estatistica('LeBron James', 'Stephen Curry', NBA_score)\n"
      ]
    },
    {
      "cell_type": "code",
      "execution_count": null,
      "metadata": {
        "id": "4lOAufTSOJWs"
      },
      "outputs": [],
      "source": [
        "comparando_estatistica('LeBron James', 'Damian Lillard', NBA_score)\n"
      ]
    },
    {
      "cell_type": "code",
      "execution_count": null,
      "metadata": {
        "id": "GSiNKLONOJWu"
      },
      "outputs": [],
      "source": [
        "comparando_estatistica('LeBron James', 'Russell Westbrook', NBA_score)\n"
      ]
    },
    {
      "cell_type": "code",
      "execution_count": null,
      "metadata": {
        "id": "KlhDUYEIOJWw"
      },
      "outputs": [],
      "source": [
        "comparando_estatistica('LeBron James', 'Joel Embiid', NBA_score)\n"
      ]
    },
    {
      "cell_type": "code",
      "execution_count": null,
      "metadata": {
        "id": "t21H_Ul_OJWx"
      },
      "outputs": [],
      "source": [
        "comparando_estatistica('LeBron James', 'James Harden', NBA_score)\n"
      ]
    },
    {
      "cell_type": "code",
      "execution_count": null,
      "metadata": {
        "id": "AWMp-FD6OJWy"
      },
      "outputs": [],
      "source": [
        "comparando_estatistica('LeBron James', 'Giannis Antetokounmpo', NBA_score)\n"
      ]
    },
    {
      "cell_type": "code",
      "execution_count": 41,
      "metadata": {
        "id": "Wbjji9y0OJWz"
      },
      "outputs": [],
      "source": [
        "# Frases para os print-f\n",
        "\n",
        "j1 = 'LeBron James'\n",
        "j2 = 'Giannis Antetokounmpo'\n",
        "cd1 = 'com mais de 30'\n",
        "cd2 = 'com mais de 25 e menor ou igual a 30'\n",
        "cd3 = 'com 25 ou menos'"
      ]
    },
    {
      "cell_type": "code",
      "execution_count": null,
      "metadata": {
        "id": "h0NuI4ncOJW0",
        "outputId": "ce974236-a1c0-49ff-fe72-f49709fe0382"
      },
      "outputs": [],
      "source": [
        "# Definindo os data frames de dois jogadores com mais de 30 anos.\n",
        "\n",
        "jogadorA = NBA_score[(NBA_score['player_name'] == j1) & (NBA_score['age'] > 30)]\n",
        "jogadorB = NBA_score[(NBA_score['player_name'] == j2) & (NBA_score['age'] > 30)]\n",
        "\n",
        "#Plotando uma matriz de gráficos relacionando idade x peso, idade x rebotes, idade x assistências\n",
        "\n",
        "fig, ax = plt.subplots(2, 3, figsize=(18, 10))\n",
        "\n",
        "sns.lineplot(x=jogadorA['age'], y=jogadorA['pts'], color='green', marker='o', ax=ax[0,0])\n",
        "ax[0,0].set_title(f'Pontuação {cd1} - {j1}')\n",
        "ax[0,0].set_ylim([10, 50])\n",
        "\n",
        "sns.lineplot(x=jogadorA['age'], y=jogadorA['reb'], color='red', marker='o', ax=ax[0,1])\n",
        "ax[0,1].set_title(f'Rebotes {cd1} - {j1}')\n",
        "ax[0,1].set_ylim([0, 12])\n",
        "\n",
        "sns.lineplot(x=jogadorA['age'], y=jogadorA['ast'], color='blue', marker='o', ax=ax[0,2])\n",
        "ax[0,2].set_title(f'Assistências {cd1} - {j1}')\n",
        "ax[0,2].set_ylim([0, 12])\n",
        "\n",
        "sns.lineplot(x=jogadorB['age'], y=jogadorB['pts'], color='green', marker='o', ax=ax[1,0])\n",
        "ax[1,0].set_title(f'Pontuação {cd1} - {j2}')\n",
        "ax[1,0].set_ylim([10, 50])\n",
        "\n",
        "sns.lineplot(x=jogadorB['age'], y=jogadorB['reb'], color='red', marker='o', ax=ax[1,1])\n",
        "ax[1,1].set_title(f'Rebotes {cd1} - {j2}')\n",
        "ax[1,1].set_ylim([0, 12])\n",
        "\n",
        "sns.lineplot(x=jogadorB['age'], y=jogadorB['ast'], color='blue', marker='o', ax=ax[1,2])\n",
        "ax[1,2].set_title(f'Assistências {cd1} - {j2}')\n",
        "ax[1,2].set_ylim([0, 12])\n",
        "\n",
        "plt.tight_layout()\n",
        "plt.show()"
      ]
    },
    {
      "cell_type": "code",
      "execution_count": null,
      "metadata": {
        "id": "aaszgsZ5OJW2",
        "outputId": "e4da3eb0-6edd-4d95-dcdf-d5b9d29a518d"
      },
      "outputs": [],
      "source": [
        "# Definindo os data frames de dois jogadores com mais de 25 e menos 30 anos.\n",
        "\n",
        "jogadorA = NBA_score[(NBA_score['player_name'] == j1) & (NBA_score['age'] > 25) & (NBA_score['age'] <= 30)]\n",
        "jogadorB = NBA_score[(NBA_score['player_name'] == j2) & (NBA_score['age'] > 25) & (NBA_score['age'] <= 30)]\n",
        "\n",
        "#Plotando uma matriz de gráficos relacionando idade x peso, idade x rebotes, idade x assistências\n",
        "\n",
        "fig, ax = plt.subplots(2, 3, figsize=(22, 10))\n",
        "\n",
        "sns.lineplot(x=jogadorA['age'], y=jogadorA['pts'], color='green', marker='o', ax=ax[0,0])\n",
        "ax[0,0].set_title(f'Pontuação {cd2} - {j1}')\n",
        "ax[0,0].set_ylim([10, 50])\n",
        "\n",
        "sns.lineplot(x=jogadorA['age'], y=jogadorA['reb'], color='red', marker='o', ax=ax[0,1])\n",
        "ax[0,1].set_title(f'Rebotes {cd2} - {j1}')\n",
        "ax[0,1].set_ylim([0, 12])\n",
        "\n",
        "sns.lineplot(x=jogadorA['age'], y=jogadorA['ast'], color='blue', marker='o', ax=ax[0,2])\n",
        "ax[0,2].set_title(f'Assistências {cd2} - {j1}')\n",
        "ax[0,2].set_ylim([0, 12])\n",
        "\n",
        "sns.lineplot(x=jogadorB['age'], y=jogadorB['pts'], color='green', marker='o', ax=ax[1,0])\n",
        "ax[1,0].set_title(f'Pontuação {cd2} - {j2}')\n",
        "ax[1,0].set_ylim([10, 50])\n",
        "\n",
        "sns.lineplot(x=jogadorB['age'], y=jogadorB['reb'], color='red', marker='o', ax=ax[1,1])\n",
        "ax[1,1].set_title(f'Rebotes {cd2} - {j2}')\n",
        "ax[1,1].set_ylim([0, 12])\n",
        "\n",
        "sns.lineplot(x=jogadorB['age'], y=jogadorB['ast'], color='blue', marker='o', ax=ax[1,2])\n",
        "ax[1,2].set_title(f'Assistências {cd2} - {j2}')\n",
        "ax[1,2].set_ylim([0, 12])\n",
        "\n",
        "plt.tight_layout()\n",
        "plt.show()"
      ]
    },
    {
      "cell_type": "code",
      "execution_count": null,
      "metadata": {
        "id": "ysRPzyoOOJW3",
        "outputId": "6b240569-e804-456a-e8b8-9778020065a7"
      },
      "outputs": [],
      "source": [
        "# Definindo os data frames de dois jogadores com menos de 25.\n",
        "\n",
        "jogadorA = NBA_score[(NBA_score['player_name'] == j1) & (NBA_score['age'] < 25)]\n",
        "jogadorB = NBA_score[(NBA_score['player_name'] == j2) & (NBA_score['age'] < 25)]\n",
        "\n",
        "#Plotando uma matriz de gráficos relacionando idade x peso, idade x rebotes, idade x assistências\n",
        "\n",
        "fig, ax = plt.subplots(2, 3, figsize=(22, 10))\n",
        "\n",
        "sns.lineplot(x=jogadorA['age'], y=jogadorA['pts'], color='green', marker='o', ax=ax[0,0])\n",
        "ax[0,0].set_title(f'Pontuação {cd3} - {j1}')\n",
        "ax[0,0].set_ylim([10, 50])\n",
        "\n",
        "sns.lineplot(x=jogadorA['age'], y=jogadorA['reb'], color='red', marker='o', ax=ax[0,1])\n",
        "ax[0,1].set_title(f'Rebotes {cd3} - {j1}')\n",
        "ax[0,1].set_ylim([0, 12])\n",
        "\n",
        "sns.lineplot(x=jogadorA['age'], y=jogadorA['ast'], color='blue', marker='o', ax=ax[0,2])\n",
        "ax[0,2].set_title(f'Assistências {cd3} - {j1}')\n",
        "ax[0,2].set_ylim([0, 12])\n",
        "\n",
        "sns.lineplot(x=jogadorB['age'], y=jogadorB['pts'], color='green', marker='o', ax=ax[1,0])\n",
        "ax[1,0].set_title(f'Pontuação {cd3} - {j2}')\n",
        "ax[1,0].set_ylim([10, 50])\n",
        "\n",
        "sns.lineplot(x=jogadorB['age'], y=jogadorB['reb'], color='red', marker='o', ax=ax[1,1])\n",
        "ax[1,1].set_title(f'Rebotes {cd3} - {j2}')\n",
        "ax[1,1].set_ylim([0, 12])\n",
        "\n",
        "sns.lineplot(x=jogadorB['age'], y=jogadorB['ast'], color='blue', marker='o', ax=ax[1,2])\n",
        "ax[1,2].set_title(f'Assistências {cd3} - {j2}')\n",
        "ax[1,2].set_ylim([0, 12])\n",
        "\n",
        "plt.tight_layout()\n",
        "plt.show()"
      ]
    },
    {
      "cell_type": "code",
      "execution_count": 46,
      "metadata": {
        "id": "isuxtcjjOJW7"
      },
      "outputs": [],
      "source": [
        "# Definição de um novo DataFrame apenas com as métricas necessárias\n",
        "NBA_score = NBA[['player_name','age', 'team_abbreviation',\n",
        "       'player_height', 'player_weight', 'gp', 'pts', 'reb', 'ast', 'net_rating', 'season']]\n",
        "\n",
        "        # gp = games played\n",
        "        # pts = média de pontos\n",
        "        # reb = média de rebotes\n",
        "        # ast = média de assistências\n",
        "        # net rating = métrica que avalia o desempenho geral da equipe quando o jogador está em quadra\n",
        "\n",
        "\n",
        "\n",
        "# Nova coluna com métrica de avaliação de score total na temporada, sem levar em consideração o número de partidas jogadas\n",
        "# O score é dado pela soma das médias de pontos, rebotes e assistências na temporada\n",
        "NBA_score['season_score'] = (NBA_score['pts'] + NBA_score['reb'] + NBA_score['ast'])\n",
        "\n",
        "# Nova coluna que leva em consideração o número de partidas jogadas, criando um score por jogo\n",
        "# O game score é dado pela divisão do score da temporada pelo núemro de jogos que o o jogador participou\n",
        "NBA_score['game_score'] =  NBA_score['season_score'] / NBA_score['gp']"
      ]
    },
    {
      "cell_type": "code",
      "execution_count": 47,
      "metadata": {
        "id": "YtMP2JQqOJW8"
      },
      "outputs": [],
      "source": [
        "# Tabela com todos os jogadores da NBA tirando o LeBron James\n",
        "df_geral = NBA_score[(NBA_score['player_name'] != 'LeBron James')]\n",
        "# Tabela apenas com os dados referentes ao LeBron James\n",
        "df_lebron = NBA_score[(NBA_score['player_name'] == 'LeBron James')]"
      ]
    },
    {
      "cell_type": "code",
      "execution_count": null,
      "metadata": {
        "id": "dUKMO7rAOJW9",
        "outputId": "e5b4c457-0c87-4942-9072-bd4745a7741e"
      },
      "outputs": [],
      "source": [
        "df_lebron"
      ]
    },
    {
      "cell_type": "code",
      "execution_count": null,
      "metadata": {
        "id": "PnFWAnTJOJXB",
        "outputId": "0d0d5d66-73a6-4979-8fb7-dad402040a52"
      },
      "outputs": [],
      "source": [
        "# O objetivo foi definido como sendo a média do game score do LeBron\n",
        "objetivo = df_lebron['game_score'].mean()\n",
        "# A média de pontos é retirada da tabela geral, na qual LeBron não está presente para não influenciar os dados\n",
        "media_pontos = df_geral['game_score'].mean()\n",
        "# Desvio padrão retirado da tabela geral, assim como a média de pontos.\n",
        "desvio_pontos = df_geral['game_score'].std()\n",
        "\n",
        "print(f'Média de score por partida dos jogadores: {media_pontos} \\n')\n",
        "print(f'Desvio padrão de score por partida dos jogadores: {desvio_pontos}')"
      ]
    },
    {
      "cell_type": "code",
      "execution_count": 50,
      "metadata": {
        "id": "8PTarwOgOJXC"
      },
      "outputs": [],
      "source": [
        "# Cálculo do Z Score que será aplicado no modelo de probabilidade\n",
        "\n",
        "z = (objetivo - media_pontos) / desvio_pontos"
      ]
    },
    {
      "cell_type": "code",
      "execution_count": null,
      "metadata": {
        "id": "QGon5WHVOJXD",
        "outputId": "73d49e71-85ac-4227-dd7a-0886f6bcd256"
      },
      "outputs": [],
      "source": [
        "# Cálculo da probabilidade\n",
        "\n",
        "probabilidade = stats.norm.sf(z)\n",
        "print(f'A probabilidade de um jogador atingir um game score de {objetivo} é de {probabilidade*100}%')"
      ]
    },
    {
      "cell_type": "code",
      "execution_count": null,
      "metadata": {
        "id": "jA49BPckOJXF",
        "outputId": "e3ea5a54-91d7-431a-89c8-d764929a1311"
      },
      "outputs": [],
      "source": [
        "# Plotagem do gráfico\n",
        "\n",
        "x = np.linspace(media_pontos - 3*desvio_pontos, media_pontos + 3*desvio_pontos, 100)\n",
        "pdf = stats.norm.pdf(x, media_pontos, desvio_pontos)\n",
        "\n",
        "plt.figure(figsize=(10, 6))\n",
        "plt.plot(x, pdf, label='Distribuição Normal', color='blue')\n",
        "plt.axvline(objetivo, color='red', linestyle='--', label=f'Game Score Médio LeBron: {objetivo}')\n",
        "plt.axvline(media_pontos, color='green', linestyle='--', label=f'Game Score Médio: {media_pontos}')\n",
        "plt.title('Distribuição da Média de Game Score dos Jogadores')\n",
        "plt.xlabel('Game Score')\n",
        "plt.ylabel('Densidade')\n",
        "plt.legend()\n",
        "plt.show()"
      ]
    },
    {
      "cell_type": "code",
      "execution_count": null,
      "metadata": {
        "id": "BNur4OwPOJXG",
        "outputId": "ceb3787e-77ec-4947-9d16-917fab0ad07d"
      },
      "outputs": [],
      "source": [
        "# Média de pontos retirada da tabela geral de jogadores, sem o LeBron\n",
        "media_pontos = df_geral['pts'].mean()\n",
        "# Desvio a partir da tabela geral\n",
        "desvio_pontos = df_geral['pts'].std()\n",
        "# Trget definido como a média da média de pontos por temporada do LeBron\n",
        "objetivo = df_lebron['pts'].mean()\n",
        "\n",
        "print(f'Média de pontos total dos jogadores: {media_pontos} \\n')\n",
        "print(f'Desvio padrão de pontos dos jogadores: {desvio_pontos}')"
      ]
    },
    {
      "cell_type": "code",
      "execution_count": 54,
      "metadata": {
        "id": "KsPVcQF_OJXH"
      },
      "outputs": [],
      "source": [
        "# Cálculo do Z Score que será aplicado no modelo de probabilidade\n",
        "\n",
        "z = (objetivo - media_pontos) / desvio_pontos"
      ]
    },
    {
      "cell_type": "code",
      "execution_count": null,
      "metadata": {
        "id": "e3cS10anOJXJ",
        "outputId": "4cdb5714-60ea-4a7c-ca31-5935e0d8122f"
      },
      "outputs": [],
      "source": [
        "# Cálculo da probabilidade\n",
        "\n",
        "probabilidade = stats.norm.sf(z)\n",
        "print(f'A probabilidade de um jogador atingir uma média de pontos de {objetivo} é de {probabilidade*100:.4f}%')"
      ]
    },
    {
      "cell_type": "code",
      "execution_count": null,
      "metadata": {
        "id": "UvB5GJn-OJXK",
        "outputId": "c109ac22-ffd7-482a-e819-5e123f51982d"
      },
      "outputs": [],
      "source": [
        "# Plotagem do gráfico\n",
        "\n",
        "x = np.linspace(media_pontos - 3*desvio_pontos, media_pontos + 3*desvio_pontos, 100)\n",
        "pdf = stats.norm.pdf(x, media_pontos, desvio_pontos)\n",
        "\n",
        "plt.figure(figsize=(10, 6))\n",
        "plt.plot(x, pdf, label='Distribuição Normal', color='blue')\n",
        "plt.axvline(objetivo, color='red', linestyle='--', label=f'Pontuação Média LeBron por Temporada: {objetivo}')\n",
        "plt.axvline(media_pontos, color='green', linestyle='--', label=f'Pontuação Média por Temporada: {media_pontos}')\n",
        "plt.title('Distribuição da Pontuação Média por Temporada dos Jogadores')\n",
        "plt.xlabel('Pontuação Média')\n",
        "plt.ylabel('Densidade')\n",
        "plt.legend()\n",
        "plt.show()"
      ]
    },
    {
      "cell_type": "code",
      "execution_count": null,
      "metadata": {
        "id": "SxlD4kx7OJXM",
        "outputId": "4daf046f-d663-4305-8a43-3f6cbedb65e5"
      },
      "outputs": [],
      "source": [
        "# Ranking de jogadores que conseguiram o feito de ter uma média igual ou maior que 30 pontos em uma temporada.\n",
        "NBA_score[(NBA_score['pts'] >= 30)].value_counts('player_name')"
      ]
    },
    {
      "cell_type": "code",
      "execution_count": null,
      "metadata": {
        "id": "QfESuKqHOJXN",
        "outputId": "e8fdc68d-4038-4696-a4b6-b1f0b8efb936"
      },
      "outputs": [],
      "source": [
        "# Média de pontos por temporada a partir da tabela geral de jogadores, incluindo LeBron\n",
        "media_pontos = NBA_score['pts'].mean()\n",
        "# Desvio padrão a partir da tabela geral de jogadores\n",
        "desvio_pontos = NBA_score['pts'].std()\n",
        "# Target definido como 30 pontos na temporada\n",
        "objetivo = 30\n",
        "\n",
        "print(f'Média de pontos total dos jogadores: {media_pontos} \\n')\n",
        "print(f'Desvio padrão de pontos dos jogadores: {desvio_pontos}')"
      ]
    },
    {
      "cell_type": "code",
      "execution_count": 59,
      "metadata": {
        "id": "SP3VPV7OOJXO"
      },
      "outputs": [],
      "source": [
        "# Cálculo do Z Score que será aplicado no modelo de probabilidade\n",
        "\n",
        "z = (objetivo - media_pontos) / desvio_pontos"
      ]
    },
    {
      "cell_type": "code",
      "execution_count": null,
      "metadata": {
        "id": "jrmlYxYwOJXQ",
        "outputId": "4f66c0c6-04e4-426e-de72-fb631cfcecea"
      },
      "outputs": [],
      "source": [
        "# Cálculo da probabilidade\n",
        "\n",
        "probabilidade = stats.norm.sf(z)\n",
        "print(f'A probabilidade de um jogador atingir uma média de {objetivo} pontos na temporada é de {probabilidade*100}')"
      ]
    },
    {
      "cell_type": "code",
      "execution_count": null,
      "metadata": {
        "id": "Zgo8Ur_ZOJXR",
        "outputId": "14027f72-cf5a-4732-ab40-690b294abed6"
      },
      "outputs": [],
      "source": [
        "# Plotagem do gráfico\n",
        "\n",
        "x = np.linspace(media_pontos - 3*desvio_pontos, media_pontos + 3*desvio_pontos, 100)\n",
        "pdf = stats.norm.pdf(x, media_pontos, desvio_pontos)\n",
        "\n",
        "plt.figure(figsize=(10, 6))\n",
        "plt.plot(x, pdf, label='Distribuição Normal', color='blue')\n",
        "plt.axvline(objetivo, color='red', linestyle='--', label=f'Média Objetivo: {objetivo}')\n",
        "plt.axvline(media_pontos, color='green', linestyle='--', label=f'Média de Pontos: {media_pontos}')\n",
        "plt.title('Distribuição da Média de Pontos por Temporada')\n",
        "plt.xlabel('Média de Pontos por Jogo')\n",
        "plt.ylabel('Densidade')\n",
        "plt.legend()\n",
        "plt.show()"
      ]
    },
    {
      "cell_type": "markdown",
      "metadata": {
        "id": "X9z1WxxHOJXS"
      },
      "source": [
        "# **Teste A/B**\n",
        "---"
      ]
    },
    {
      "cell_type": "markdown",
      "metadata": {
        "id": "faR28S1vOJXT"
      },
      "source": [
        "### **Teste 1**\n",
        "A idade de LeBron James afetou a quantidade de pontos marcados nas partidas?"
      ]
    },
    {
      "cell_type": "code",
      "execution_count": 62,
      "metadata": {
        "id": "8fuJwEJAOJXU"
      },
      "outputs": [],
      "source": [
        "# Divisão dos dados em dois DataFrames distintos com as médias de pontos antes e após 30 anos de idade.\n",
        "LB_antes_30 = df_lebron[(df_lebron['age'] < 30)]['pts']\n",
        "LB_depois_30 = df_lebron[(df_lebron['age'] >= 30)]['pts']"
      ]
    },
    {
      "cell_type": "code",
      "execution_count": null,
      "metadata": {
        "id": "fgXjwMT-OJXV",
        "outputId": "f172e98b-d80c-4baf-a33c-508082a829b4"
      },
      "outputs": [],
      "source": [
        "# Cálculo da estatística t e do p alue\n",
        "t_stat, p_value = stats.ttest_ind(LB_antes_30, LB_depois_30)\n",
        "\n",
        "print(f'Estatística t: {t_stat:.4f} \\n')\n",
        "print(f'P Value: {p_value:.4f}')"
      ]
    },
    {
      "cell_type": "code",
      "execution_count": null,
      "metadata": {
        "id": "bF-JjzTUOJXW",
        "outputId": "2aa6e7a2-5baf-496e-c263-d0134c768904"
      },
      "outputs": [],
      "source": [
        "# Validação de hipótese\n",
        "alpha = 0.05\n",
        "if p_value < alpha:\n",
        "    print(\"Há uma diferença significativa na quantidade de porntos marcados por LeBron após os 30 anos.\")\n",
        "else:\n",
        "    print(\"Não há diferença significativa na quantidade de porntos marcados por LeBron após os 30 anos.\")"
      ]
    },
    {
      "cell_type": "markdown",
      "metadata": {
        "id": "WAjCb5E8OJXY"
      },
      "source": [
        "**Conclusão**\n",
        "\n",
        "Apesar de ter ficado mais velho, LeBron James não teve alteração significativa na média de pontos marcados, se mantendo como um dos jogadores com a média de pontos mais alta da liga.\n",
        "\n",
        "---"
      ]
    },
    {
      "cell_type": "markdown",
      "metadata": {
        "id": "2o5apEySOJXZ"
      },
      "source": [
        "### **Teste 2**\n",
        "A idade de LeBron James afetou seu game score de forma significativa?"
      ]
    },
    {
      "cell_type": "code",
      "execution_count": 65,
      "metadata": {
        "id": "ZRf-cLoAOJXb"
      },
      "outputs": [],
      "source": [
        "# Divisão dos dados em dois DataFrames distintos com as médias de pontos antes e após 30 anos de idade.\n",
        "LB_antes_30 = df_lebron[(df_lebron['age'] < 30)]['game_score']\n",
        "LB_depois_30 = df_lebron[(df_lebron['age'] >= 30)]['game_score']"
      ]
    },
    {
      "cell_type": "code",
      "execution_count": null,
      "metadata": {
        "id": "r_mKuducOJXc",
        "outputId": "160eb4df-929a-4885-ce2c-d82ec9bc348b"
      },
      "outputs": [],
      "source": [
        "# Cálculo da estatística t e do p alue\n",
        "t_stat, p_value = stats.ttest_ind(LB_antes_30, LB_depois_30)\n",
        "\n",
        "print(f'Estatística t: {t_stat:.4f} \\n')\n",
        "print(f'P Value: {p_value:.4f}')"
      ]
    },
    {
      "cell_type": "code",
      "execution_count": null,
      "metadata": {
        "id": "NJF1V9ZUOJXe",
        "outputId": "203076bd-24b2-4e7a-fe03-e896d513beb4"
      },
      "outputs": [],
      "source": [
        "# Validação de hipótese\n",
        "alpha = 0.05\n",
        "if p_value < alpha:\n",
        "    print(\"O desempenho de game score mudou significativamente para LeBron após os 30 anos.\")\n",
        "else:\n",
        "    print(\"O desempenho de game score não mudou significativamente para LeBron após os 30 anos.\")"
      ]
    },
    {
      "cell_type": "code",
      "execution_count": null,
      "metadata": {
        "id": "sqgsv6fFOJXf",
        "outputId": "15785cea-dbcb-4eb5-96dd-08542d1021a3"
      },
      "outputs": [],
      "source": [
        "print('Games Score Médio de LeBron James antes dos 30 anos.')\n",
        "print(df_lebron[(df_lebron['age'] < 30)]['game_score'].mean())"
      ]
    },
    {
      "cell_type": "code",
      "execution_count": null,
      "metadata": {
        "id": "ijcKiLA8OJXh",
        "outputId": "c6a7e6dd-d2d2-4129-eb4d-9a0ca46c06ba"
      },
      "outputs": [],
      "source": [
        "print('Games Score Médio de LeBron James depois dos 30 anos.')\n",
        "print(df_lebron[(df_lebron['age'] >= 30)]['game_score'].mean())"
      ]
    },
    {
      "cell_type": "markdown",
      "metadata": {
        "id": "DNRmOG41OJXi"
      },
      "source": [
        "**Conclusão**\n",
        "\n",
        "Apesar de LeBron James ter envelhecido, suas métricas melhoraram com a idade, de forma que sua experiência não apenas manteve uma alta média de pontos, como também elevou a média de rebotes e assistências dadas pelo jogador.\n",
        "\n",
        "---"
      ]
    },
    {
      "cell_type": "markdown",
      "metadata": {
        "id": "pAyh3lDfOJXj"
      },
      "source": [
        "#### Plots"
      ]
    },
    {
      "cell_type": "code",
      "execution_count": 70,
      "metadata": {
        "id": "OMLx7o-lOJXk"
      },
      "outputs": [],
      "source": [
        "%matplotlib inline\n",
        "sns.set(style=\"whitegrid\")"
      ]
    },
    {
      "cell_type": "code",
      "execution_count": 71,
      "metadata": {
        "id": "jDSx5i1wOJXl"
      },
      "outputs": [],
      "source": [
        "def plot_heatmap():\n",
        "    plt.figure(figsize=(14, 10))\n",
        "    corr = NBA_NUM.corr(numeric_only=True)\n",
        "    sns.heatmap(corr, annot=True, cmap='coolwarm', vmin=-1, vmax=1)\n",
        "    plt.title(\"Mapa de Calor das Correlações\", fontsize=15)\n",
        "    plt.show()"
      ]
    },
    {
      "cell_type": "code",
      "execution_count": 72,
      "metadata": {
        "id": "Zl2YgQ3VOJXn"
      },
      "outputs": [],
      "source": [
        "def plot_histograma_pontos_idade():\n",
        "    plt.figure(figsize=(14, 10))\n",
        "    sns.histplot(NBA_NUM['age'], bins=10, kde=False, color='purple')\n",
        "    plt.title(\"Distribuição de Pontos por Idade\", fontsize=15)\n",
        "    plt.xlabel(\"Idade\")\n",
        "    plt.ylabel(\"Frequência\")\n",
        "    plt.show()"
      ]
    },
    {
      "cell_type": "code",
      "execution_count": 73,
      "metadata": {
        "id": "lCN4hvEsOJXo"
      },
      "outputs": [],
      "source": [
        "def plot_jogadores_mais_30_pontos():\n",
        "    plt.figure(figsize=(12, 6))\n",
        "\n",
        "    mais_30 = NBA[(NBA['age'] >= 30) & (NBA['pts'] >= 30)]\n",
        "    menos_30 = NBA[(NBA['age'] > 25) & (NBA['age'] < 30) & (NBA['pts'] >= 30)]\n",
        "    menos_25 = NBA[(NBA['age'] <= 25) & (NBA['pts'] >= 30)]\n",
        "\n",
        "    sns.barplot(x=mais_30['player_name'], y=mais_30['pts'], color='red', label='> 30 anos')\n",
        "    sns.barplot(x=menos_30['player_name'], y=menos_30['pts'], color='blue', label='25-30 anos')\n",
        "    sns.barplot(x=menos_25['player_name'], y=menos_25['pts'], color='green', label='< 25 anos')\n",
        "\n",
        "    plt.title('Jogadores com +30 Pontos por Faixa Etária', fontsize=15)\n",
        "    plt.xlabel('Nome do Jogador')\n",
        "    plt.ylabel('Pontos')\n",
        "    plt.xticks(rotation=90)\n",
        "    plt.legend(loc='upper right')\n",
        "    plt.show()"
      ]
    },
    {
      "cell_type": "code",
      "execution_count": 75,
      "metadata": {
        "id": "eNvQb3UhOJXp"
      },
      "outputs": [],
      "source": [
        "def plot_comparacao_estrelas():\n",
        "    tabela_lebron = NBA_score[NBA_score['player_name'] == 'LeBron James']\n",
        "    game_score_mean_lebron = tabela_lebron['game_score'].mean()\n",
        "\n",
        "    giannis = NBA_score[NBA_score['player_name'] == 'Giannis Antetokounmpo']\n",
        "    media_giannis = giannis['game_score'].mean()\n",
        "\n",
        "    doncic = NBA_score[NBA_score['player_name'] == 'Luka Doncic']\n",
        "    medi_doncic = doncic['game_score'].mean()\n",
        "\n",
        "    kobe = NBA_score[NBA_score['player_name'] == 'Kobe Bryant']\n",
        "    media_kobe = kobe['game_score'].mean()\n",
        "\n",
        "    embiid = NBA_score[NBA_score['player_name'] == 'Joel Embiid']\n",
        "    media_embiid = embiid['game_score'].mean()\n",
        "\n",
        "    stars = pd.DataFrame({\n",
        "        'Jogador': ['LeBron James', 'Luka Doncic', 'Giannis Antetokounmpo', 'Kobe Bryant', 'Joel Embiid'],\n",
        "        'Média Game Score': [game_score_mean_lebron, medi_doncic, media_giannis, media_kobe, media_embiid]\n",
        "    })\n",
        "\n",
        "    plt.figure(figsize=(10, 6))\n",
        "    sns.lineplot(data=stars, x='Jogador', y='Média Game Score', marker='o')\n",
        "    plt.title('Comparação de Game Score entre Estrelas', fontsize=15)\n",
        "    plt.xlabel('Jogador')\n",
        "    plt.ylabel('Média Game Score')\n",
        "    plt.show()"
      ]
    },
    {
      "cell_type": "code",
      "execution_count": 76,
      "metadata": {
        "id": "5dLLbXmxOJXq"
      },
      "outputs": [],
      "source": [
        "def plot_tendencia_game_score_idade():\n",
        "    age_mean_game_score = NBA_score.groupby('age')['game_score'].mean().reset_index()\n",
        "\n",
        "    plt.figure(figsize=(10, 6))\n",
        "    sns.lineplot(data=age_mean_game_score, x='age', y='game_score', marker='o', color='green')\n",
        "    plt.title('Tendência do Game Score com a Idade', fontsize=15)\n",
        "    plt.xlabel('Idade')\n",
        "    plt.ylabel('Média Game Score')\n",
        "    plt.show()"
      ]
    },
    {
      "cell_type": "code",
      "execution_count": null,
      "metadata": {
        "id": "TeIBY9eMOJXs",
        "outputId": "62456762-1b46-4526-f22c-38b9e77d72c3"
      },
      "outputs": [],
      "source": [
        "plot_heatmap()\n",
        "plot_histograma_pontos_idade()\n",
        "plot_jogadores_mais_30_pontos()\n",
        "plot_comparacao_estrelas()\n",
        "plot_tendencia_game_score_idade()"
      ]
    }
  ],
  "metadata": {
    "colab": {
      "provenance": []
    },
    "kernelspec": {
      "display_name": "base",
      "language": "python",
      "name": "python3"
    },
    "language_info": {
      "codemirror_mode": {
        "name": "ipython",
        "version": 3
      },
      "file_extension": ".py",
      "mimetype": "text/x-python",
      "name": "python",
      "nbconvert_exporter": "python",
      "pygments_lexer": "ipython3",
      "version": "3.12.4"
    }
  },
  "nbformat": 4,
  "nbformat_minor": 0
}
